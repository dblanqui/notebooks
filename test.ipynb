{
 "cells": [
  {
   "cell_type": "markdown",
   "metadata": {
    "nbgrader": {
     "grade": false,
     "grade_id": "cell-5f9fdc0e153d29e2",
     "locked": true,
     "schema_version": 1,
     "solution": false
    }
   },
   "source": [
    "<div align=justify>\n",
    "    <h1 style='text-align:center' ><span style = 'color:#0000FF'>NoteBook 1: Travail Préliminaire</span></h1>\n",
    "    <h2 style='text-align:center' ><i>Exploration de base de données</i></h2>\n",
    "</div>"
   ]
  },
  {
   "cell_type": "markdown",
   "metadata": {
    "nbgrader": {
     "grade": false,
     "grade_id": "cell-c08e6253d087828c",
     "locked": true,
     "schema_version": 1,
     "solution": false
    }
   },
   "source": [
    "<div class = \"alert alert-danger\"> \n",
    "    <h1> 1. Effectuer une requête dans un Notebook </h1>\n",
    "</div>"
   ]
  },
  {
   "cell_type": "markdown",
   "metadata": {
    "nbgrader": {
     "grade": false,
     "grade_id": "cell-de55237e44b084a7",
     "locked": true,
     "schema_version": 1,
     "solution": false
    }
   },
   "source": [
    "## 1.1 Notebook et SQL."
   ]
  },
  {
   "cell_type": "markdown",
   "metadata": {
    "nbgrader": {
     "grade": false,
     "grade_id": "cell-247d23b74560e00e",
     "locked": true,
     "schema_version": 1,
     "solution": false
    }
   },
   "source": [
    "<div class = \"alert alert-success\"> \n",
    "les Notebook Jupyter ne sont pas conçus à la base pour effectuer des requêtes dans des bases de données. Nous allons donc devoir importer une bibliothéque spécifique qui permet d'interroger des bases de données au format <a href=\"https://fr.wikipedia.org/wiki/SQLite\" target=\"_blank\">SQLite</a>.   \n",
    "\n",
    "</div>"
   ]
  },
  {
   "cell_type": "code",
   "execution_count": 2,
   "metadata": {
    "nbgrader": {
     "grade": false,
     "grade_id": "cell-81d725abe4dea20a",
     "locked": true,
     "schema_version": 1,
     "solution": false
    }
   },
   "outputs": [],
   "source": [
    "%LOAD LFT.db\n",
    "\n"
   ]
  },
  {
   "cell_type": "markdown",
   "metadata": {
    "nbgrader": {
     "grade": false,
     "grade_id": "cell-9ef7e05e476e502e",
     "locked": true,
     "schema_version": 1,
     "solution": false
    }
   },
   "source": [
    "## 1.2 Effectuer une requête\n",
    "- Pour commencer il faut stocker la requête dans une variable en respectant bien la syntaxe décrite ci-dessous.\n",
    "- Noter le `;` à la fin de la requête"
   ]
  },
  {
   "cell_type": "code",
   "execution_count": 4,
   "metadata": {
    "nbgrader": {
     "grade": false,
     "grade_id": "cell-7d1fb92ba1207ef0",
     "locked": true,
     "schema_version": 1,
     "solution": false
    }
   },
   "outputs": [
    {
     "data": {
      "text/html": [
       "<table>\n",
       "<tr>\n",
       "<th>annee</th>\n",
       "<th>filiere</th>\n",
       "<th>niveau</th>\n",
       "</tr>\n",
       "<tr>\n",
       "<td>2011</td>\n",
       "<td>Informatique</td>\n",
       "<td>Se</td>\n",
       "</tr>\n",
       "<tr>\n",
       "<td>2012</td>\n",
       "<td>Informatique</td>\n",
       "<td>Se</td>\n",
       "</tr>\n",
       "</table>"
      ],
      "text/plain": [
       "+-------+--------------+--------+\n",
       "| annee | filiere      | niveau |\n",
       "+-------+--------------+--------+\n",
       "| 2011  | Informatique | Se     |\n",
       "+-------+--------------+--------+\n",
       "| 2012  | Informatique | Se     |\n",
       "+-------+--------------+--------+"
      ]
     },
     "execution_count": 4,
     "metadata": {},
     "output_type": "execute_result"
    }
   ],
   "source": [
    "SELECT annee, filiere, niveau\n",
    "FROM Inscriptions\n",
    "WHERE num_et=00007 ;"
   ]
  },
  {
   "cell_type": "markdown",
   "metadata": {
    "nbgrader": {
     "grade": false,
     "grade_id": "cell-a180fe7cb24f77d8",
     "locked": true,
     "schema_version": 1,
     "solution": false
    }
   },
   "source": [
    "<div class = \"alert alert-success\"> \n",
    "    Cette requête demande les données <code>annee</code>,<code>filiere</code> et <code>niveau</code> de la table <code>Inscription</code> pour l'étudiant dont le <code>num_et</code> est 00007.\n",
    " </div>"
   ]
  },
  {
   "cell_type": "markdown",
   "metadata": {
    "nbgrader": {
     "grade": false,
     "grade_id": "cell-613adf79ab2e5c01",
     "locked": true,
     "schema_version": 1,
     "solution": false
    }
   },
   "source": [
    "On constate que cet étudiant a été inscrit au lycée en filiére 2011 et 2012, en filière Informatique et sur le niveau seconde. Il a du redoubler puis a du arréter ses études."
   ]
  },
  {
   "cell_type": "markdown",
   "metadata": {
    "nbgrader": {
     "grade": false,
     "grade_id": "cell-186961ff5adf4b1c",
     "locked": true,
     "schema_version": 1,
     "solution": false
    }
   },
   "source": [
    "<div class = \"alert alert-danger\"> \n",
    "    <h1> 2. A vous de jouer ! </h1>\n",
    "</div>"
   ]
  },
  {
   "cell_type": "markdown",
   "metadata": {
    "nbgrader": {
     "grade": false,
     "grade_id": "cell-6345d0e4aae3fa88",
     "locked": true,
     "schema_version": 1,
     "solution": false
    }
   },
   "source": [
    "<div class = \"alert alert-info\">\n",
    "    \n",
    "<b>Q1 :</b> Créer une variable <code>r1</code> qui permettre de créer une requête pour trouver la liste des filières du lycée.<br>\n",
    "\n",
    "$\\spadesuit$ <b>Attention</b> chaque filiere ne doit apparaitre qu'une seule fois dans le résultat de la requête\n",
    "\n",
    "</div>"
   ]
  },
  {
   "cell_type": "code",
   "execution_count": 5,
   "metadata": {},
   "outputs": [
    {
     "data": {
      "text/html": [
       "<table>\n",
       "<tr>\n",
       "<th>filiere</th>\n",
       "</tr>\n",
       "<tr>\n",
       "<td>Informatique</td>\n",
       "</tr>\n",
       "<tr>\n",
       "<td>Sciences pour l'ingenieur</td>\n",
       "</tr>\n",
       "<tr>\n",
       "<td>Sciences du langage</td>\n",
       "</tr>\n",
       "<tr>\n",
       "<td>Sciences de l'education</td>\n",
       "</tr>\n",
       "<tr>\n",
       "<td>Sciences Physiques</td>\n",
       "</tr>\n",
       "</table>"
      ],
      "text/plain": [
       "+---------------------------+\n",
       "| filiere                   |\n",
       "+---------------------------+\n",
       "| Informatique              |\n",
       "+---------------------------+\n",
       "| Sciences pour l'ingenieur |\n",
       "+---------------------------+\n",
       "| Sciences du langage       |\n",
       "+---------------------------+\n",
       "| Sciences de l'education   |\n",
       "+---------------------------+\n",
       "| Sciences Physiques        |\n",
       "+---------------------------+"
      ]
     },
     "execution_count": 5,
     "metadata": {},
     "output_type": "execute_result"
    }
   ],
   "source": [
    "SELECT DISTINCT filiere\n",
    "FROM Programme ;"
   ]
  },
  {
   "cell_type": "markdown",
   "metadata": {
    "nbgrader": {
     "grade": false,
     "grade_id": "cell-88e7c6f0d26a060d",
     "locked": true,
     "schema_version": 1,
     "solution": false
    }
   },
   "source": [
    "Equipe pédagoqique LFT-NSI, ressource éducative libre distribuée sous [Licence Creative Commons Attribution - Pas d’Utilisation Commerciale - Partage dans les Mêmes Conditions 4.0 International](http://creativecommons.org/licenses/by-nc-sa/4.0/) ![Licence Creative Commons](https://i.creativecommons.org/l/by-nc-sa/4.0/88x31.png)"
   ]
  }
 ],
 "metadata": {
  "celltoolbar": "Create Assignment",
  "kernelspec": {
   "display_name": "xsqlite",
   "language": "sqlite",
   "name": "xsqlite"
  },
  "language_info": {
   "codemirror_mode": "sql",
   "file_extension": "",
   "mimetype": "",
   "name": "sqlite3",
   "version": "3.30.1"
  },
  "latex_envs": {
   "LaTeX_envs_menu_present": true,
   "autoclose": false,
   "autocomplete": true,
   "bibliofile": "biblio.bib",
   "cite_by": "apalike",
   "current_citInitial": 1,
   "eqLabelWithNumbers": true,
   "eqNumInitial": 1,
   "hotkeys": {
    "equation": "Ctrl-E",
    "itemize": "Ctrl-I"
   },
   "labels_anchors": false,
   "latex_user_defs": false,
   "report_style_numbering": false,
   "user_envs_cfg": false
  }
 },
 "nbformat": 4,
 "nbformat_minor": 2
}
