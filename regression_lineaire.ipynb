{
 "cells": [
  {
   "cell_type": "code",
   "execution_count": null,
   "metadata": {},
   "outputs": [],
   "source": [
    "import matplotlib.pyplot as plt\n",
    "import numpy as np\n",
    "from scipy import stats"
   ]
  },
  {
   "cell_type": "markdown",
   "metadata": {},
   "source": [
    "La fonction ci-dessous effectue une regression linéaire et retourne toutes les données à l'identique de la fonction EXCEL droitereg alors que la fonction linregress de scipy ne retourne par l'eccart type de l'ordonnée à l'origine."
   ]
  },
  {
   "cell_type": "code",
   "execution_count": null,
   "metadata": {},
   "outputs": [],
   "source": [
    "def lsqfity(X, Y): \n",
    "    \"\"\" \n",
    "    Calculate a \"MODEL-1\" least squares fit. \n",
    "\n",
    "    The line is fit by MINIMIZING the residuals in Y only. \n",
    "\n",
    "    The equation of the line is:  Y = my * X + by. \n",
    "\n",
    "    Equations are from Bevington & Robinson (1992) \n",
    "    Data Reduction and Error Analysis for the Physical Sciences, 2nd Ed.\" \n",
    "    pp: 104, 108-109, 199. \n",
    "\n",
    "    Data are input and output as follows: \n",
    "\n",
    "    my, by, ry, smy, sby = lsqfity(X,Y) \n",
    "    X  = x data (vector) \n",
    "    Y  = y data (vector) \n",
    "    my = slope \n",
    "    by = y-intercept \n",
    "    ry = correlation coefficient \n",
    "    smy = standard deviation of the slope \n",
    "    sby = standard deviation of the y-intercept \n",
    "\n",
    "    \"\"\" \n",
    "\n",
    "    X, Y = map(np.asanyarray, (X, Y)) \n",
    "\n",
    "    # Determine the size of the vector. \n",
    "    n = len(X) \n",
    "\n",
    "    # Calculate the sums. \n",
    "\n",
    "    Sx = np.sum(X) \n",
    "    Sy = np.sum(Y) \n",
    "    Sx2 = np.sum(X ** 2) \n",
    "    Sxy = np.sum(X * Y) \n",
    "    Sy2 = np.sum(Y ** 2) \n",
    "\n",
    "    # Calculate re-used expressions. \n",
    "    num = n * Sxy - Sx * Sy \n",
    "    den = n * Sx2 - Sx ** 2 \n",
    "\n",
    "    # Calculate my, by, ry, s2, smy and sby. \n",
    "    my = num/den \n",
    "    by = (Sx2 * Sy - Sx * Sxy)/den \n",
    "    ry = num/(np.sqrt(den) * np.sqrt(n * Sy2 - Sy ** 2)) \n",
    "    rysquare=ry**2\n",
    "    diff = Y - by - my * X \n",
    "\n",
    "    s2 = np.sum(diff * diff)/(n - 2) \n",
    "    smy = np.sqrt(n * s2/den) \n",
    "    sby = np.sqrt(Sx2 * s2/den) \n",
    "\n",
    "    return my, by, ry, rysquare , smy, sby  "
   ]
  },
  {
   "cell_type": "code",
   "execution_count": null,
   "metadata": {},
   "outputs": [],
   "source": [
    "#Données \n",
    "unsura=np.array([33333.3333333333,25000,16666.6666666667,12500,10000,6666.66666666667])\n",
    "teta=np.array([0.02170703,0.01624335,0.01343768,0.00812168,0.00658594,0.00472534])\n",
    "\n",
    "#calculs de linregress\n",
    "print(\"Calculs avec la fonction linregress de scipy: \")\n",
    "a, b, r, p_value, std_err = stats.linregress(unsura, teta)\n",
    "print(\"a={:8.8f}\\nb={:8.5f}\\nr^2 ={:8.5f}\\neccart-type de la pente={:8.9f}\".format(a, b, r**2,std_err ))\n",
    "print(\"\\n\")\n",
    "# calculs avec la fonction lsqfity\n",
    "print(\"Calculs avec la fonction lsqfity:\")\n",
    "print(\"a={:8.8f}\\nb={:8.5f}\\nr^2 ={:8.5f}\\neccart-type de la pente={:8.9f}\\neccart-type de l'ordonnée à l'origine={:8.9f}\".format(lsqfity(unsura,teta)[0], lsqfity(unsura,teta)[1], lsqfity(unsura,teta)[3],lsqfity(unsura,teta)[4],lsqfity(unsura,teta)[5]))\n",
    "\n",
    "\n",
    "# Graphique\n",
    "plt.plot(unsura,teta,\"bo\",label=\"donnees\")\n",
    "plt.plot( # droite de regression\n",
    "    unsura,a * unsura + b,\"r-\",label=\"regression\")            \n",
    "plt.xlabel(\"1/a\") # nom de l'axe x\n",
    "plt.ylabel(\"teta\") # nom de l'axe y\n",
    "plt.legend() # la legende\n",
    "plt.title(\"Regression Lineaire\") # titre de graphique"
   ]
  },
  {
   "cell_type": "code",
   "execution_count": null,
   "metadata": {},
   "outputs": [],
   "source": []
  }
 ],
 "metadata": {
  "kernelspec": {
   "display_name": "Python 3",
   "language": "python",
   "name": "python3"
  },
  "language_info": {
   "codemirror_mode": {
    "name": "ipython",
    "version": 3
   },
   "file_extension": ".py",
   "mimetype": "text/x-python",
   "name": "python",
   "nbconvert_exporter": "python",
   "pygments_lexer": "ipython3",
   "version": "3.7.3"
  }
 },
 "nbformat": 4,
 "nbformat_minor": 4
}
